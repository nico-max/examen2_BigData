{
 "cells": [
  {
   "cell_type": "markdown",
   "metadata": {},
   "source": [
    "# Test 2\n",
    "## Imports and configurations \n",
    " (global variables, gecko...)"
   ]
  },
  {
   "cell_type": "code",
   "execution_count": 1,
   "metadata": {},
   "outputs": [],
   "source": [
    "# Importing required libraries for web scrapping\n",
    "import time\n",
    "\n",
    "from bs4 import BeautifulSoup\n",
    "from selenium import webdriver\n",
    "\n",
    "import os"
   ]
  },
  {
   "cell_type": "code",
   "execution_count": 2,
   "metadata": {},
   "outputs": [],
   "source": [
    "jar = \"./pos-tagger/stanford-postagger/stanford-postagger-4.2.0.jar\"\n",
    "model = \"./pos-tagger/stanford-postagger/models/spanish-ud.tagger\"\n",
    "os.environ[\"JAVAHOME\"] = \"/usr/bin/java\""
   ]
  },
  {
   "cell_type": "code",
   "execution_count": 3,
   "metadata": {},
   "outputs": [],
   "source": [
    "# Base URL of the site to be analyzed\n",
    "SITE_URL = 'https://alianzaverde.org.co/lideres-verdes/congreso-2022/senado-2022'\n",
    "IMAGE_URL_ROOT = 'https://alianzaverde.org.co'"
   ]
  },
  {
   "cell_type": "code",
   "execution_count": 4,
   "metadata": {},
   "outputs": [],
   "source": [
    "# Firefox web driver path\n",
    "# Download the driver for you S.O. here: https://github.com/mozilla/geckodriver/releases\n",
    "DRIVER_PATH = './geckodriver.exe'"
   ]
  },
  {
   "cell_type": "markdown",
   "metadata": {},
   "source": [
    "## Webscraping"
   ]
  },
  {
   "cell_type": "code",
   "execution_count": 5,
   "metadata": {},
   "outputs": [
    {
     "name": "stderr",
     "output_type": "stream",
     "text": [
      "C:\\Users\\BORISL~1\\AppData\\Local\\Temp/ipykernel_11224/1910320475.py:2: DeprecationWarning: executable_path has been deprecated, please pass in a Service object\n",
      "  browser = webdriver.Firefox(executable_path = DRIVER_PATH)\n"
     ]
    }
   ],
   "source": [
    "# Creating a new firefox window\n",
    "browser = webdriver.Firefox(executable_path = DRIVER_PATH)"
   ]
  },
  {
   "cell_type": "code",
   "execution_count": 6,
   "metadata": {},
   "outputs": [],
   "source": [
    "def make_request(browser, relative_path):\n",
    "    # Making the request and rendering the browser\n",
    "    if relative_path!=\"\":\n",
    "        browser.get(relative_path)\n",
    "    else:\n",
    "        browser.get(SITE_URL + relative_path)\n",
    "    \n",
    "    # Simulating vertical scrolling for handling lazy load\n",
    "    check_height = browser.execute_script('return document.body.scrollHeight;')\n",
    "    while True:\n",
    "        browser.execute_script('window.scrollTo(0, document.body.scrollHeight);')\n",
    "        time.sleep(3)\n",
    "        height = browser.execute_script('return document.body.scrollHeight;')\n",
    "        if height == check_height: \n",
    "            break \n",
    "        check_height = height\n",
    "    \n",
    "    # Getting HTML content and passing it to BeautifulSoup for scraping analysis\n",
    "    return BeautifulSoup(browser.page_source, 'html.parser')"
   ]
  },
  {
   "cell_type": "code",
   "execution_count": 7,
   "metadata": {},
   "outputs": [],
   "source": [
    "candidates = []"
   ]
  },
  {
   "cell_type": "code",
   "execution_count": 8,
   "metadata": {
    "tags": []
   },
   "outputs": [
    {
     "name": "stdout",
     "output_type": "stream",
     "text": [
      "\n",
      "\n"
     ]
    }
   ],
   "source": [
    "# Getting HTML content for a particular news listing page\n",
    "\n",
    "# Controlling the page which will be showing cards for every cycle\n",
    "\n",
    "soup = make_request(browser, \"\")\n",
    "\n",
    "# Finding the section where news are contained \n",
    "layout = soup.find(class_ = 'page-1246')\n",
    "\n",
    "# Getting blocks from layout\n",
    "blocks = layout.find_all(class_ = 'sppb-wow')#, recursive = True)\n",
    "\n",
    "for block in blocks:\n",
    "\n",
    "    # Finding and concatenating news cards\n",
    "    cards = block.find_all(class_ = 'sppb-col-md-3')\n",
    "    \n",
    "    # Reviewing a maximun of two cards by page (in order to mantain low processing power for the exercise)\n",
    "    for i in range(len(cards)):\n",
    "        try:\n",
    "            description = cards[i].find(class_ = 'sppb-person-designation').get_text()\n",
    "            \n",
    "            image = cards[i].find('img', class_ = 'sppb-img-responsive')['src']\n",
    "        \n",
    "            group_network = cards[i].find('ul', class_ = 'sppb-person-social')\n",
    "            networks = {}\n",
    "            if group_network is not None:\n",
    "                items_network = group_network.find_all('li')\n",
    "                for item in items_network:\n",
    "                    networks.update({item.find('a')['aria-label']:item.find('a')['href']})\n",
    "\n",
    "            candidates.append({\n",
    "                'image': IMAGE_URL_ROOT+image,\n",
    "                'description': description,\n",
    "                'networks' : networks,\n",
    "            })\n",
    "        except:\n",
    "            print(\"\")\n",
    "        "
   ]
  },
  {
   "cell_type": "code",
   "execution_count": 9,
   "metadata": {},
   "outputs": [
    {
     "data": {
      "text/plain": [
       "[{'image': 'https://alianzaverde.org.co/images/Candidatos_2022/senado/2.jpg',\n",
       "  'description': 'Abogada y filósofa, con un máster en Ciencias de la Administración Pública, en Alemania. Experta en gestión pública, descentralización, transparencia, buen gobierno, modernización del estado, cultura ciudadana y cooperación internacional, temas en los cuales se ha desempeñado alternativamente como servidora pública, consultora y docente.',\n",
       "  'networks': {'Facebook': 'https://twitter.com/VivianaBarbere ',\n",
       "   'Twitter': 'https://twitter.com/VivianaBarbere',\n",
       "   'Instagram': 'https://www.instagram.com/barberenaviviana/ '}},\n",
       " {'image': 'https://alianzaverde.org.co/images/Candidatos_2022/senado/3.jpg',\n",
       "  'description': 'Nacida de seres excepcionales, en tiempos inciertos; es la mujer de retos resueltos. Desde el inicio de su carrera política, su liderazgo se enfoca en mantener la cultura de la equidad, la familia y el fortalecimiento económico, político y social de las regiones en Colombia',\n",
       "  'networks': {'Facebook': 'https://www.facebook.com/sandraortizsenadora',\n",
       "   'Twitter': 'https://twitter.com/sandraortizn',\n",
       "   'YouTube': 'https://www.youtube.com/channel/UCTwjhE_bLZS72l0RqI_u4OQ/featured',\n",
       "   'Instagram': 'https://www.instagram.com/sandraortizn'}},\n",
       " {'image': 'https://alianzaverde.org.co/images/Candidatos_2022/senado/5.jpg',\n",
       "  'description': 'Destacado Senador de la República en el año 2010 fue disciplinado y estricto en el cumplimiento de su función en la producción legislativa y el ejercicio del control político; en particular, participó de forma definitiva en los Proyectos de Ley y de Acto Legislativo trascendentales para el país.',\n",
       "  'networks': {'Facebook': 'https://www.facebook.com/JorgeELondonoU/',\n",
       "   'Twitter': 'https://twitter.com/JorgeELondonoU',\n",
       "   'YouTube': 'https://youtube.com/user/JorgeLondonoUlloa',\n",
       "   'Instagram': 'http://instagram.com/jorgeelondonou'}},\n",
       " {'image': 'https://alianzaverde.org.co/images/Candidatos_2022/senado/7.jpg',\n",
       "  'description': 'Egresado de la Facultad de Derecho de la Pontificia Universidad Javeriana; fue Diputado a la Asamblea de Cundinamarca, Concejal, Representante a la Cámara por Bogotá y Senador, además de ser fundador del Partido Alianza Verde. Correo de contacto',\n",
       "  'networks': {'Facebook': 'https://www.facebook.com/SenadorIvanName ',\n",
       "   'Twitter': '/ https://twitter.com/IvanNameVasquez ',\n",
       "   'Instagram': 'https://www.instagram.com/ivannamevasquez/ '}},\n",
       " {'image': 'https://alianzaverde.org.co/images/Candidatos_2022/senado/8.jpg',\n",
       "  'description': 'Como congresista pertenece a la Comisión sexta, la comisión de paz y la Comisión de Derechos Humanos. Ha presentado iniciativas para reformar el sistema general de participaciones y la jornada laboral. Ha presentado proyectos de ley que fortalezcan la nutrición saludable, el internet gratuito, el financiamiento a los cuerpos de bomberos, la creación de las provincias, entre otras.',\n",
       "  'networks': {'Facebook': 'https://www.facebook.com/Leonfredym',\n",
       "   'Twitter': 'https://twitter.com/LeonFredyM ',\n",
       "   'Instagram': 'https://www.instagram.com/leonfredymunozl'}},\n",
       " {'image': 'https://alianzaverde.org.co/images/Candidatos_2022/senado/10.jpg',\n",
       "  'description': 'Ciudadana, activista cívica, abogada y Senadora de 2018 a 2022 por el partido Alianza Verde. Representante a la Cámara por Bogotá en 2014 - 2018. Magíster en Gerencia y Práctica del Desarrollo en la Universidad de los Andes y becaria del Instituto Nacional Demócrata (NDI).',\n",
       "  'networks': {'Facebook': 'https://www.facebook.com/angelicalozanocorrea/ ',\n",
       "   'Twitter': 'https://twitter.com/AngelicaLozanoC ',\n",
       "   'YouTube': 'https://www.youtube.com/user/bogotaserespeta',\n",
       "   'Instagram': 'https://www.instagram.com/angelicalozano10/'}},\n",
       " {'image': 'https://alianzaverde.org.co/images/Candidatos_2022/senado/12.jpg',\n",
       "  'description': 'Nacida en Villa de Leyva Boyacá. Desde su infancia se caracterizó por el amor a su familia, solidaridad y capacidad de asumir retos. Ingeniera Industrial de la Universidad Pedagógica y Tecnológica de Colombia, con una Maestría en en pensamiento estratégico y perspectiva de la Universidad Externado de Colombia.',\n",
       "  'networks': {'Facebook': '/ https://www.facebook.com/karolina.jerez ',\n",
       "   'Twitter': 'https://twitter.com/CaroEspitiaJ ',\n",
       "   'Instagram': 'https://www.instagram.com/caroespitiaj/ '}},\n",
       " {'image': 'https://alianzaverde.org.co/images/Candidatos_2022/senado/14.jpg',\n",
       "  'description': 'Profesora universitaria. Autora de varias publicaciones sobre derechos animales y justicia juvenil restaurativa (Beca de Investigación del Grupo Coímbra. Programa de Becas para Jóvenes Profesores e Investigadores de Universidades de América Latina, 2009). Columnista ocasional de varios medios de comunicación.',\n",
       "  'networks': {'Facebook': 'https://www.facebook.com/andreanimalidad',\n",
       "   'Twitter': 'https://twitter.com/andreanimalidad ',\n",
       "   'YouTube': 'https://www.youtube.com/channel/UCnJ85DTEYtqUJ1o9wQLsbyA ',\n",
       "   'Instagram': 'https://www.instagram.com/andreanimalidad'}},\n",
       " {'image': 'https://alianzaverde.org.co/images/Candidatos_2022/senado/18.jpg',\n",
       "  'description': 'Magíster en Gestión de la Tecnología Educativa. Ex presidente de Sindimaestros en Boyacá. Ex presidente de FECODE y actualmente Ejecutivo (tesorero)Dirigente estudiantil, sindical, social y político desde hace 32 años.',\n",
       "  'networks': {'Facebook': 'https://www.facebook.com/nelson.alarconsuarez.16 ',\n",
       "   'Twitter': 'https://twitter.com/Nelsonalarcon74 ',\n",
       "   'YouTube': 'https://www.youtube.com/channel/UC0yGgG_Jj4cUa8kdv_J5n2w ',\n",
       "   'Instagram': 'https://www.instagram.com/nelsonalarcon74/ '}},\n",
       " {'image': 'https://alianzaverde.org.co/images/Candidatos_2022/senado/20.jpg',\n",
       "  'description': 'Nació en Pereira en 1946, el cuarto de once hermanos, en la época de la Violencia… cuando liberales y conservadores se mataban. Por eso desde pequeño sabe que lo más importante para el país es que las personas aprendamos a convivir, a dignificar la existencia humana.',\n",
       "  'networks': {'Facebook': 'https://www.facebook.com/IvanMarulandaGomez',\n",
       "   'Twitter': 'https://twitter.com/ivanmarulanda',\n",
       "   'YouTube': 'https://www.youtube.com/c/IvánMarulandaGomezCo ',\n",
       "   'Instagram': 'https://www.instagram.com/ivanmarulandagomez/ '}},\n",
       " {'image': 'https://alianzaverde.org.co/images/Candidatos_2022/senado/22.jpg',\n",
       "  'description': 'Miembro de la Comisión Segunda del Senado y Co-Presidente de la Comisión de Paz. Sociólogo, Magíster en Desarrollo Regional de la Universidad de Los Andes y Doctor en Gobierno y Administración Pública de la Universidad Complutense de Madrid. Fue Concejal de Bogotá de 2008 a diciembre de 2017.',\n",
       "  'networks': {'Facebook': 'https://www.facebook.com/antonio.sanguino.79 ',\n",
       "   'Twitter': 'https://twitter.com/AntonioSanguino',\n",
       "   'YouTube': 'https://www.youtube.com/channel/UC7yjLuIJdAaJXoIRDSEChHw ',\n",
       "   'Instagram': 'https://www.instagram.com/antonio_sanguino '}},\n",
       " {'image': 'https://alianzaverde.org.co/images/Candidatos_2022/senado/26.jpg',\n",
       "  'description': 'Líder ambiental de Piedecuesta, ha sido visible en el movimiento ambiental del departamento. Trabajó en la Alcaldía de Piedecuesta en la Oficina de Control Interno. Terminó materias de administración de empresas en la Universidad Cooperativa de Colombia, y es perito certificado por la Lonja de Propiedad horizontal, así como tecnólogo del Sena en mercado y venta de bienes inmuebles.',\n",
       "  'networks': {'Facebook': 'https://www.facebook.com/fabiandiazcomunidad/ ',\n",
       "   'Twitter': 'https://twitter.com/FabianDiazPlata ',\n",
       "   'Instagram': 'https://instagram.com/fabiandiaz.plata '}},\n",
       " {'image': 'https://alianzaverde.org.co/images/Candidatos_2022/senado/28.jpg',\n",
       "  'description': 'Abogada de la Universidad Nacional de Colombia, trabajó con la Rama Judicial y el Acueducto de Bogotá como asesora jurídica. Actualmente es abogada militante. Literaria y novelista con publicaciones de sus escritos. Trabaja con la cultura y la comunidad en asuntos sociales.',\n",
       "  'networks': {'Facebook': 'https://www.facebook.com/PartidoAlianzaVerde'}},\n",
       " {'image': 'https://alianzaverde.org.co/images/Candidatos_2022/senado/30.jpg',\n",
       "  'description': 'Profesional en Gobierno y Relaciones internacionales con maestría en Desarrollo Regional y dos años de experiencia en en entidades de cooperación internacional y del Estado. Enfoque de trabajo en gobernanza, construcción de paz, transparencia y equidad de género.',\n",
       "  'networks': {'Facebook': 'https://www.facebook.com/Linaarangorisaralda ',\n",
       "   'Twitter': 'https://twitter.com/linamariaarango',\n",
       "   'Instagram': 'https://www.instagram.com/linaarangosenadora/ '}},\n",
       " {'image': 'https://alianzaverde.org.co/images/Candidatos_2022/senado/32.jpg',\n",
       "  'description': 'Activista estudiantil vinculado a las luchas agrarias de los campesinos por la tierra para quien la trabaja de la ANUC línea Sincelejo. Fundador de la Asociación de adjudicatarios de vivienda del ICT y UPAC, fue su Presidente, Miembro destacado del Consejo Nacional de los pueblos cívicos comunales y la Coordinadora de Vivienda Popular en los años 1980. Líder sindical de la subdirectiva sindical de Telecom en Montería Córdoba, Miembro vicepresidente de  Consejo de planeación territorial del Atlántico en la primera generación de consejeros con el nacimiento de la ley de participación territorial. ',\n",
       "  'networks': {'Facebook': 'https://www.facebook.com/PartidoAlianzaVerde/'}},\n",
       " {'image': 'https://alianzaverde.org.co/images/Candidatos_2022/senado/34.jpg',\n",
       "  'description': 'Abogado de la Universidad de los Andes, especialista en Estado, Políticas públicas y Desarrollo. Activista social y medio ambiental. Autor del libro titulado “Agua” fiel creyente de los cambios a través del proceso democrático y participativo, basado en los principios progresistas.',\n",
       "  'networks': {'Facebook': 'https://www.facebook.com/Frankcanossa ',\n",
       "   'Twitter': '/ https://twitter.com/canossafrank ',\n",
       "   'Instagram': 'https://www.instagram.com/canossafrank/ '}},\n",
       " {'image': 'https://alianzaverde.org.co/images/Candidatos_2022/senado/36.jpg',\n",
       "  'description': 'Abogado de la Universidad de los Andes, Especialista en Derecho, Magíster en Educación y en Derecho, Doctor en Derecho (PDH). INVESTIGADOR SENIOR RECONOCIDO POR MIN CIENCIAS. AUTOR DE DIFERENTES LIBROS EN ÁREAS EDUCATIVAS Y JURÍDICAS.',\n",
       "  'networks': {'Facebook': 'https://www.facebook.com/js.perilla117',\n",
       "   'Twitter': 'https://twitter.com/juansperilla ',\n",
       "   'Instagram': 'https://www.instagram.com/juansperilla/ '}},\n",
       " {'image': 'https://alianzaverde.org.co/images/Candidatos_2022/senado/38.jpg',\n",
       "  'description': 'Secretario de Educación del Departamento de Bolívar. -Primer Secretario de Educación del Distrito de Cartagena. Gobernador del Departamento de Bolívar, por elección popular. -Presidente del Consejo Superior de la Universidad de Cartagena. -Docente Especial Tiempo Completo- Escuela Superior de Administración Pública-ESAP. ',\n",
       "  'networks': {'Facebook': '/www.facebook.com/luis.d.sanchez.16',\n",
       "   'Twitter': 'https://twitter.com/LuisDanieVargas',\n",
       "   'Instagram': 'https://www.instagram.com/luisdvargass/'}},\n",
       " {'image': 'https://alianzaverde.org.co/images/Candidatos_2022/senado/40.jpg',\n",
       "  'description': 'Nacido en Samaná Caldas, estudió economía y comercio exterior en la Universidad de los Libertadores. Empresario enfocado en el sector inmobiliario.  Su apuesta está centrada en el sector campo.',\n",
       "  'networks': {'Facebook': 'https://www.facebook.com/JorgeELondonoU/',\n",
       "   'Twitter': 'https://twitter.com/JorgeELondonoU',\n",
       "   'YouTube': 'https://youtube.com/user/JorgeLondonoUlloa',\n",
       "   'Instagram': 'http://instagram.com/jorgeelondonou'}},\n",
       " {'image': 'https://alianzaverde.org.co/images/Candidatos_2022/senado/42.jpg',\n",
       "  'description': 'Bogotana, Abogada defensora de los derechos humanos, de la inclusión y diversidad, de los animales y el medio ambiente. Abogada litigante. Experiencia en Secretaría General de la Contraloría de  Cundinamarca, Personera Delegada para Protección a Víctimas, Personera Delegada para Seguridad y Convivencia, Directora y Subdirectora del Proceso de Responsabilidad Fiscal y Cobro Coactivo de la Contraloría de Bogotá.',\n",
       "  'networks': {'Facebook': 'https://www.facebook.com/PartidoAlianzaVerde/'}},\n",
       " {'image': 'https://alianzaverde.org.co/images/Candidatos_2022/senado/44.jpg',\n",
       "  'description': 'Soy filósofa de la Universidad del Valle con Maestría en Estudios Políticos de la U. Javeriana, he ejercido la cátedra universitaria. Tengo una larga trayectoria como defensora de Derechos Humanos, y he desplegado un rico liderazgo social que me ha llevado a hacer contribuciones significativas al lado de los movimientos sociales y las víctimas del conflicto social y armado.',\n",
       "  'networks': {'Facebook': 'https://www.facebook.com/liliasolanor',\n",
       "   'Twitter': 'https://twitter.com/liliasolanor ',\n",
       "   'YouTube': 'https://www.youtube.com/channel/UCv9HqVyXEOHWXmkwFINOOeA',\n",
       "   'Instagram': 'https://www.instagram.com/liliasolanor/'}},\n",
       " {'image': 'https://alianzaverde.org.co/images/Candidatos_2022/senado/48.jpg',\n",
       "  'description': 'Economista, magíster en gobierno. Reconocido por su sentido social, responsable, honesto, innovador, creativo y social. Ha desarrollado proyectos comunitarios y gobernabilidad en más de 43 consejos comunitarios en el territorio ancestral del norte del Cauca.',\n",
       "  'networks': {'Facebook': 'https://www.facebook.com/victorhugomorenom',\n",
       "   'Twitter': 'https://twitter.com/VictorMorenoMin',\n",
       "   'YouTube': 'https://www.youtube.com/channel/UCYM3_NTBTRheRYsJd2cLMgw'}},\n",
       " {'image': 'https://alianzaverde.org.co/images/Candidatos_2022/senado/52.jpg',\n",
       "  'description': 'Empresaria, consultora organizacional en procesos de transformación. Víctima del atentado de las Farc al Club El Nogal. Incapacitada durante 8+años. Fui mi propio laboratorio de Perdón y Reconciliación. Ayudo a sanar corazones de víctimas y victimarios. Dirijo Encuentros Transformadores entre diversos (30años).  Pienso crear la política pública para la Transformación y Reconciliación.',\n",
       "  'networks': {'YouTube': 'https://www.youtube.com/channel/UC4S3hcMJV5jq4jXEs8Ltjow/videos',\n",
       "   'Instagram': 'https://www.instagram.com/encuentrotransformador/'}},\n",
       " {'image': 'https://alianzaverde.org.co/images/Candidatos_2022/senado/54.jpg',\n",
       "  'description': 'Creador de contenido digital político, reconocido por google con la placa de oro. Activista y líder político en redes sociales.',\n",
       "  'networks': {'Facebook': 'https://www.facebook.com/JotaPeHernandez',\n",
       "   'Twitter': 'https://twitter.com/JotaPeHernandez',\n",
       "   'YouTube': 'https://www.youtube.com/c/JotaPeHernandez',\n",
       "   'Instagram': 'https://www.instagram.com/jotapehernandez/'}},\n",
       " {'image': 'https://alianzaverde.org.co/images/Candidatos_2022/senado/56.jpg',\n",
       "  'description': 'DALIA FERNANDA PINEDA',\n",
       "  'networks': {'Twitter': 'https://twitter.com/JorgeELondonoU'}},\n",
       " {'image': 'https://alianzaverde.org.co/images/Candidatos_2022/senado/58.jpg',\n",
       "  'description': 'Abogado de la Universidad de Medellín, experto en derecho civil extracontractual y de tránsito. Creador del movimiento Sí Se Puede. ',\n",
       "  'networks': {'Facebook': 'https://www.facebook.com/SiSePuedeHernanEcheverri',\n",
       "   'Twitter': 'https://twitter.com/hernansisepuede',\n",
       "   'YouTube': 'https://www.youtube.com/channel/UCsD8WQMHxyI46Mh7AE3xHpA',\n",
       "   'Instagram': 'https://instagram.com/hernanecheverrisisepuede'}},\n",
       " {'image': 'https://alianzaverde.org.co/images/Candidatos_2022/senado/60.jpg',\n",
       "  'description': 'Ex concejal de Manizales por el Partido Alianza Verde, en donde ha liderado y tenido resultados alrededor de la defensa y protección de los animales, logrando posicionar a la ciudad de Manizales como ejemplo de región en el manejo de Fauna Doméstica.',\n",
       "  'networks': {'Facebook': 'https://www.facebook.com/Hemayr.concejal ',\n",
       "   'Twitter': '/ https://twitter.com/Hemayr',\n",
       "   'Instagram': 'https://www.instagram.com/hemayr.senador/'}},\n",
       " {'image': 'https://alianzaverde.org.co/images/Candidatos_2022/senado/62.jpg',\n",
       "  'description': 'Representante de los Usuarios del ICETEX y líder del movimiento el ICETEX TE ARRUINA. Desde el 2013 ha investigado las anomalías del modelo de financiación y ha aunado esfuerzos en el Congreso de la República para lograr 4 leyes que podrían beneficiar a más de 800 mil usuarios.',\n",
       "  'networks': {'Facebook': 'https://www.facebook.com/icetextearruina/ ',\n",
       "   'Twitter': 'https://twitter.com/danieltorres086 ',\n",
       "   'YouTube': 'https://www.youtube.com/c/ICETEXTEARRUINA '}},\n",
       " {'image': 'https://alianzaverde.org.co/images/Candidatos_2022/senado/64.jpg',\n",
       "  'description': 'Economista, Magíster en Economía de la Universidad Javeriana y especialista en Gobierno de la Universidad de Columbia de Nueva York. Desde hace 9 años es consultor de las Naciones Unidas en el tema de seguridad ciudadana.',\n",
       "  'networks': {}},\n",
       " {'image': 'https://alianzaverde.org.co/images/Candidatos_2022/senado/69.jpg',\n",
       "  'description': 'Politólogo, periodista. Ex subdirector de la fundación Paz y Reconciliación. Cuenta con más de 30 publicaciones.',\n",
       "  'networks': {'Facebook': 'https://www.facebook.com/ArielAvilaAnaliza ',\n",
       "   'Twitter': 'https://twitter.com/ArielAnaliza',\n",
       "   'YouTube': 'https://www.youtube.com/c/ArielÁvilaAnaliza  '}},\n",
       " {'image': 'https://alianzaverde.org.co/images/Candidatos_2022/senado/70.jpg',\n",
       "  'description': 'Comunicadora social y periodista, especializada en recursos humanos. Emprendedora del campo y productos orgánicos. Ambientalista por convicción, activista política y social.',\n",
       "  'networks': {'Facebook': '/www.facebook.com/adriana.prieto.7921',\n",
       "   'Twitter': 'https://twitter.com/AdriPrietoYopal ',\n",
       "   'Instagram': 'https://www.instagram.com/adrianaprietovargas/ '}},\n",
       " {'image': 'https://alianzaverde.org.co/images/Candidatos_2022/senado/91.jpg',\n",
       "  'description': 'Arley Fernando Gómez',\n",
       "  'networks': {'Facebook': 'https://www.facebook.com/ArleyFGomez ',\n",
       "   'Twitter': 'https://twitter.com/ArleyFGomez ',\n",
       "   'Instagram': 'https://www.instagram.com/arleyfernandogomez/ '}},\n",
       " {'image': 'https://alianzaverde.org.co/images/Candidatos_2022/senado/98.jpg',\n",
       "  'description': 'Abogada, candidata a Magíster en D. con énfasis en DD.HH y justicia transicional. Especialista en derecho público, planeación estratégica urbana y Gerencia del Ambiente. Cuenta con más de 19 años de experiencia en el sector público, en el nivel directivo de entidades sociales y orientación a la garantía de los derechos humanos. ',\n",
       "  'networks': {'Facebook': 'https://www.facebook.com/AmericaMillaresE/ ',\n",
       "   'Twitter': 'https://twitter.com/amerikamillares '}},\n",
       " {'image': 'https://alianzaverde.org.co/images/Candidatos_2022/senado/100.jpg',\n",
       "  'description': 'Desde el Congreso de la República ha liderado importantes debates de control político en los que ha mostrado su conocimiento y liderazgo en la defensa del medio ambiente y las comunidades vulnerables de la ciudad. ha trabajado por: Cierre del Relleno Sanitario Doña Juana, Defensa de la reserva ambiental Thomas Van del Hammen, Rechazo a la Ley 1801 de 2016 - Código de Policía, Defensa de los vendedores informales, Metro de Bogotá.',\n",
       "  'networks': {'Facebook': 'https://www.facebook.com/intiasprilla ',\n",
       "   'Twitter': 'https://twitter.com/intiasprilla ',\n",
       "   'YouTube': 'https://www.youtube.com/c/IntiRa%C3%BAlAsprillaReyes ',\n",
       "   'Instagram': 'https://www.instagram.com/intiasprilla/ '}}]"
      ]
     },
     "execution_count": 9,
     "metadata": {},
     "output_type": "execute_result"
    }
   ],
   "source": [
    "candidates"
   ]
  },
  {
   "cell_type": "code",
   "execution_count": null,
   "metadata": {},
   "outputs": [],
   "source": []
  }
 ],
 "metadata": {
  "kernelspec": {
   "display_name": "Python 3 (ipykernel)",
   "language": "python",
   "name": "python3"
  },
  "language_info": {
   "codemirror_mode": {
    "name": "ipython",
    "version": 3
   },
   "file_extension": ".py",
   "mimetype": "text/x-python",
   "name": "python",
   "nbconvert_exporter": "python",
   "pygments_lexer": "ipython3",
   "version": "3.9.7"
  }
 },
 "nbformat": 4,
 "nbformat_minor": 4
}
